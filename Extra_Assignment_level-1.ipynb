{
 "cells": [
  {
   "cell_type": "code",
   "execution_count": 2,
   "id": "b688c891-2e82-4ea2-a9ae-7c04f2b42e0c",
   "metadata": {},
   "outputs": [
    {
     "name": "stdout",
     "output_type": "stream",
     "text": [
      "HOPE AI\n"
     ]
    }
   ],
   "source": [
    "print(\"HOPE AI\")"
   ]
  },
  {
   "cell_type": "code",
   "execution_count": 6,
   "id": "698f4da6-1e56-4751-9b8f-e319767e3895",
   "metadata": {},
   "outputs": [
    {
     "name": "stdin",
     "output_type": "stream",
     "text": [
      "Enter your institute name? : HOPE AI\n"
     ]
    }
   ],
   "source": [
    "Institute_Name = input(\"Enter your institute name? :\")"
   ]
  },
  {
   "cell_type": "code",
   "execution_count": 9,
   "id": "e723a87e-a5c0-4c1d-aff9-866d023006f2",
   "metadata": {},
   "outputs": [
    {
     "name": "stdin",
     "output_type": "stream",
     "text": [
      "Enter your name: Raj\n",
      "Enter you age: 15\n",
      "Enter your school name: Guru school\n",
      "Enter your degree: B.E CSE\n"
     ]
    }
   ],
   "source": [
    "Name = input(\"Enter your name:\")\n",
    "Age = int(input(\"Enter you age:\"))\n",
    "School_name = input(\"Enter your school name:\")\n",
    "Degree = input(\"Enter your degree:\")"
   ]
  },
  {
   "cell_type": "code",
   "execution_count": null,
   "id": "aaecec6a-d431-48c2-b5e0-9571dbe19d9e",
   "metadata": {},
   "outputs": [],
   "source": [
    "#Addition"
   ]
  },
  {
   "cell_type": "code",
   "execution_count": 11,
   "id": "88d234c4-b7cc-4816-92f8-53b2ea871f06",
   "metadata": {},
   "outputs": [
    {
     "name": "stdout",
     "output_type": "stream",
     "text": [
      "a= 43\n",
      "b= 34\n",
      "add= 77\n"
     ]
    }
   ],
   "source": [
    "a = 43\n",
    "print(\"a=\",a)\n",
    "b = 34\n",
    "print(\"b=\",b)\n",
    "add = a+b\n",
    "print(\"add=\",add)"
   ]
  },
  {
   "cell_type": "code",
   "execution_count": null,
   "id": "12d7ee17-7b76-42bc-b59b-5bea5a908995",
   "metadata": {},
   "outputs": [],
   "source": [
    "#Subtraction"
   ]
  },
  {
   "cell_type": "code",
   "execution_count": 13,
   "id": "facfee36-0c6a-4513-a1f5-16175fe49992",
   "metadata": {},
   "outputs": [
    {
     "name": "stdout",
     "output_type": "stream",
     "text": [
      "a= 43\n",
      "b= 34\n",
      "Sub= 9\n"
     ]
    }
   ],
   "source": [
    "a = 43\n",
    "print(\"a=\",a)\n",
    "b = 34\n",
    "print(\"b=\",b)\n",
    "Sub = a - b\n",
    "print(\"Sub=\",Sub)"
   ]
  },
  {
   "cell_type": "code",
   "execution_count": null,
   "id": "01a024be-5398-42b5-96a0-f1238fd04e7a",
   "metadata": {},
   "outputs": [],
   "source": [
    "#Multiplication"
   ]
  },
  {
   "cell_type": "code",
   "execution_count": 14,
   "id": "55610edd-9c74-4bc2-b985-39994ed68aa7",
   "metadata": {},
   "outputs": [
    {
     "name": "stdout",
     "output_type": "stream",
     "text": [
      "a= 63\n",
      "b= 97\n",
      "Mul= 6111\n"
     ]
    }
   ],
   "source": [
    "a = 63\n",
    "print(\"a=\",a)\n",
    "b = 97\n",
    "print(\"b=\",b)\n",
    "Mul = a * b\n",
    "print(\"Mul=\",Mul)"
   ]
  },
  {
   "cell_type": "code",
   "execution_count": null,
   "id": "7b4c275d-67ff-493d-803c-bd748cf26bdb",
   "metadata": {},
   "outputs": [],
   "source": [
    "#Division"
   ]
  },
  {
   "cell_type": "code",
   "execution_count": 16,
   "id": "fc233bd0-fb7a-424c-8cdb-f203fff1530e",
   "metadata": {},
   "outputs": [
    {
     "name": "stdout",
     "output_type": "stream",
     "text": [
      "a= 76\n",
      "b= 31\n",
      "Div= 2.4516129032258065\n"
     ]
    }
   ],
   "source": [
    "a = 76\n",
    "print(\"a=\",a)\n",
    "b = 31\n",
    "print(\"b=\",b)\n",
    "Div = a / b\n",
    "print(\"Div=\",Div)"
   ]
  },
  {
   "cell_type": "code",
   "execution_count": 17,
   "id": "eb1e4ae0-89da-4b00-9ec7-e5478894e891",
   "metadata": {},
   "outputs": [],
   "source": [
    "#Floor Division"
   ]
  },
  {
   "cell_type": "code",
   "execution_count": 20,
   "id": "6634780e-3bbf-4b75-ad74-8bd5730cb62d",
   "metadata": {},
   "outputs": [
    {
     "name": "stdout",
     "output_type": "stream",
     "text": [
      "a= 76\n",
      "b= 31\n",
      "Floor Div= 2\n"
     ]
    }
   ],
   "source": [
    "a = 76\n",
    "print(\"a=\",a)\n",
    "b = 31\n",
    "print(\"b=\",b)\n",
    "Floor_Div = a // b\n",
    "print(\"Floor Div=\",Floor_Div)"
   ]
  },
  {
   "cell_type": "code",
   "execution_count": 21,
   "id": "c8f889ae-a4a5-4615-bb11-4e86f080d2ae",
   "metadata": {},
   "outputs": [],
   "source": [
    "#Modulo"
   ]
  },
  {
   "cell_type": "code",
   "execution_count": 22,
   "id": "8d521149-6a3c-4c90-bd59-f844094d618a",
   "metadata": {},
   "outputs": [
    {
     "name": "stdout",
     "output_type": "stream",
     "text": [
      "a= 76\n",
      "b= 31\n",
      "Modulo= 14\n"
     ]
    }
   ],
   "source": [
    "a = 76\n",
    "print(\"a=\",a)\n",
    "b = 31\n",
    "print(\"b=\",b)\n",
    "Modulo = a % b\n",
    "print(\"Modulo=\",Modulo)"
   ]
  },
  {
   "cell_type": "code",
   "execution_count": 23,
   "id": "af610a27-d94f-4a89-ae2e-658ee282b9cd",
   "metadata": {},
   "outputs": [],
   "source": [
    "#Power"
   ]
  },
  {
   "cell_type": "code",
   "execution_count": 25,
   "id": "8ec86d8e-40aa-4f27-ae53-6d1f123c9196",
   "metadata": {},
   "outputs": [
    {
     "name": "stdout",
     "output_type": "stream",
     "text": [
      "a= 4\n",
      "b= 4\n",
      "Power= 256\n"
     ]
    }
   ],
   "source": [
    "a = 4\n",
    "print(\"a=\",a)\n",
    "b = 4\n",
    "print(\"b=\",b)\n",
    "Power = pow(a,b)\n",
    "print(\"Power=\",Power)"
   ]
  },
  {
   "cell_type": "code",
   "execution_count": null,
   "id": "58047900-ee86-49d3-9114-4c06f1e290d0",
   "metadata": {},
   "outputs": [],
   "source": []
  }
 ],
 "metadata": {
  "kernelspec": {
   "display_name": "Python [conda env:base] *",
   "language": "python",
   "name": "conda-base-py"
  },
  "language_info": {
   "codemirror_mode": {
    "name": "ipython",
    "version": 3
   },
   "file_extension": ".py",
   "mimetype": "text/x-python",
   "name": "python",
   "nbconvert_exporter": "python",
   "pygments_lexer": "ipython3",
   "version": "3.12.7"
  }
 },
 "nbformat": 4,
 "nbformat_minor": 5
}
