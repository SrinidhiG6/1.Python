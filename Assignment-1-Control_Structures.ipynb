{
 "cells": [
  {
   "cell_type": "code",
   "execution_count": 2,
   "id": "29596a1d-1238-4bfb-b525-10426d5af7fa",
   "metadata": {},
   "outputs": [
    {
     "name": "stdout",
     "output_type": "stream",
     "text": [
      "Welcome to Assignment-1\n"
     ]
    }
   ],
   "source": [
    "print(\"Welcome to Assignment-1\")"
   ]
  },
  {
   "cell_type": "code",
   "execution_count": 6,
   "id": "1165c256-25f9-4874-9401-92bcdf7e04f9",
   "metadata": {},
   "outputs": [
    {
     "name": "stdout",
     "output_type": "stream",
     "text": [
      "Num1- 10\n",
      "Num2- 30\n",
      "Add- 40\n"
     ]
    }
   ],
   "source": [
    "num1 = 10\n",
    "print(\"Num1-\",num1)\n",
    "num2 = 30\n",
    "print(\"Num2-\",num2)\n",
    "add = num1 + num2\n",
    "print(\"Add-\",add)\n"
   ]
  },
  {
   "cell_type": "code",
   "execution_count": 7,
   "id": "9957927f-096f-4d4b-a504-247396ed5433",
   "metadata": {},
   "outputs": [],
   "source": [
    "#Body Mass Index"
   ]
  },
  {
   "cell_type": "code",
   "execution_count": 11,
   "id": "77ad5fa4-b6f2-4568-9a11-621ab91cd2df",
   "metadata": {},
   "outputs": [
    {
     "name": "stdin",
     "output_type": "stream",
     "text": [
      "Enter the BMI Index: 34\n"
     ]
    },
    {
     "name": "stdout",
     "output_type": "stream",
     "text": [
      "Very Overweight\n"
     ]
    }
   ],
   "source": [
    "bmi = float(input(\"Enter the BMI Index:\"))\n",
    "if bmi < 18.5:\n",
    "    print(\"Underweight\")\n",
    "elif 18.5 <= bmi <= 24.9:\n",
    "    print(\"Healthy\")\n",
    "elif 25.0 <= bmi <= 29.9:\n",
    "    print(\"Overweight\")\n",
    "elif 30 <= bmi <= 34.9:\n",
    "    print(\"Very Overweight\")\n",
    "else:\n",
    "    print(\"Obese\")"
   ]
  },
  {
   "cell_type": "code",
   "execution_count": null,
   "id": "ac9104b8-0f63-44b8-a67d-109e709557b4",
   "metadata": {},
   "outputs": [],
   "source": []
  }
 ],
 "metadata": {
  "kernelspec": {
   "display_name": "Python [conda env:base] *",
   "language": "python",
   "name": "conda-base-py"
  },
  "language_info": {
   "codemirror_mode": {
    "name": "ipython",
    "version": 3
   },
   "file_extension": ".py",
   "mimetype": "text/x-python",
   "name": "python",
   "nbconvert_exporter": "python",
   "pygments_lexer": "ipython3",
   "version": "3.12.7"
  }
 },
 "nbformat": 4,
 "nbformat_minor": 5
}
